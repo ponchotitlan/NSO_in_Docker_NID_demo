{
 "cells": [
  {
   "attachments": {},
   "cell_type": "markdown",
   "metadata": {},
   "source": [
    "# NID (NSO in Docker) demo\n",
    "## 🍜 NID base and dev images 🍜\n",
    "---\n",
    "### Just add water, stir and enjoy"
   ]
  },
  {
   "attachments": {},
   "cell_type": "markdown",
   "metadata": {},
   "source": [
    "The NSO in Docker (NID) project aims to provide a container-state-of-mind approach to the way in which we maintain staging, development, testing and (why not) production environments.\n",
    "\n",
    "The holistic container-first approach makes it easy to isolate the purpose of every component, so that each container is dedicated to a specific function only.\n",
    "\n",
    "The following steps describe the image creation, container spinning, and the different features of each flavor.\n",
    "\n",
    "First of all, clone the official repository in your host:\n",
    "\n",
    "```\n",
    "git clone https://github.com/NSO-developer/nso-docker\n",
    "```\n",
    "\n",
    "Download the Cisco NSO free Linux signed.bin image for testing purposes from [this link](https://software.cisco.com/download/home/286331591/type/286283941/release/6.0). The version currently available is v6.0. Once downloaded, issue the following command to extract the installer file:\n",
    "\n",
    "```\n",
    "% sh nso-6.0.linux.x86_64.signed.bin . . .\n",
    "nso-6.0.linux.x86_64.installer.bin\n",
    "```\n",
    "\n",
    "This will generate a series of files. Locate the one which ends in .installer.bin and place it in the nso-install-files/ directory of the Docker for NSO repository.\n",
    "\n",
    "Once done, issue the following command in the root location of the directory:\n",
    "\n",
    "```\n",
    "% make\n",
    "```\n",
    "\n",
    "This will compile two different flavors of NSO docker images into your local collection. You can verify the completion with the following command:"
   ]
  },
  {
   "cell_type": "code",
   "execution_count": 1,
   "metadata": {},
   "outputs": [
    {
     "name": "stdout",
     "output_type": "stream",
     "text": [
      "cisco-nso-base                                                   6.0-root               a173e5c9baa9   3 months ago    678MB\n",
      "cisco-nso-dev                                                    6.0-root               825b256d44ac   3 months ago    1.43GB\n"
     ]
    }
   ],
   "source": [
    "!docker images | grep cisco-nso"
   ]
  },
  {
   "attachments": {},
   "cell_type": "markdown",
   "metadata": {},
   "source": [
    "### 🍜 ```base``` image 🍜\n",
    "\n",
    "The base image has the following properties:\n",
    "- Automatic booting of the NSO server within (of course it takes some time to boot)\n",
    "- No possibility to run NETSIM witin\n",
    "- Ideal for usage in production environments, along with persistent mounted volumes for CDB, rollbacks, backups, etc\n",
    "- It is possible to connect other resources such as external netsim devices or staging topologies using Docker networks"
   ]
  },
  {
   "attachments": {},
   "cell_type": "markdown",
   "metadata": {},
   "source": [
    "### 🍜 ```dev``` image 🍜\n",
    "\n",
    "The dev image has the following properties:\n",
    "- Workbech purposes\n",
    "- NSO must be booted up manually\n",
    "- Possbility to run NETSIM and host devices within the same container"
   ]
  },
  {
   "attachments": {},
   "cell_type": "markdown",
   "metadata": {},
   "source": [
    "### 💬 An idiomatic approach to spinning up containers 💬\n",
    "\n",
    "The image that we just generated with spin up two different kinds of NSO containers. However, there are different ways in which we can specify which are the features that the NSO server within will have.\n",
    "\n",
    "In this demo, we will explore the idiomatic parameters which can change the configs within ```/etc/ncs/ncs.conf```. These can be specified in a separate file and passed as an argument when spinning the container.\n",
    "\n",
    "What will happen is that the ncs.conf file will have its settings mangled prior to booting.\n",
    "\n",
    "You can check an example [in this file within the repository](/pipeline-utils/nso_setup.list).\n",
    "\n",
    "The file must be passed along with the ```--env-file``` flag when spinning the container."
   ]
  },
  {
   "attachments": {},
   "cell_type": "markdown",
   "metadata": {},
   "source": [
    "### 🔌 Exposed ports by default 🔌\n",
    "\n",
    "<table border=\"2\" cellspacing=\"0\" cellpadding=\"6\" rules=\"groups\" frame=\"hsides\">\n",
    "\n",
    "\n",
    "<colgroup>\n",
    "<col  class=\"org-left\" />\n",
    "\n",
    "<col  class=\"org-right\" />\n",
    "\n",
    "<col  class=\"org-left\" />\n",
    "\n",
    "<col  class=\"org-left\" />\n",
    "</colgroup>\n",
    "<thead>\n",
    "<tr>\n",
    "<th scope=\"col\" class=\"org-left\">Protocol</th>\n",
    "<th scope=\"col\" class=\"org-right\">Port</th>\n",
    "<th scope=\"col\" class=\"org-left\">Use</th>\n",
    "<th scope=\"col\" class=\"org-left\">Config var</th>\n",
    "</tr>\n",
    "</thead>\n",
    "\n",
    "<tbody>\n",
    "<tr>\n",
    "<td class=\"org-left\">TCP</td>\n",
    "<td class=\"org-right\">22</td>\n",
    "<td class=\"org-left\">SSH</td>\n",
    "<td class=\"org-left\"><code>SSH_PORT</code></td>\n",
    "</tr>\n",
    "\n",
    "\n",
    "<tr>\n",
    "<td class=\"org-left\">TCP</td>\n",
    "<td class=\"org-right\">80</td>\n",
    "<td class=\"org-left\">HTTP</td>\n",
    "<td class=\"org-left\">&#xa0;</td>\n",
    "</tr>\n",
    "\n",
    "\n",
    "<tr>\n",
    "<td class=\"org-left\">TCP</td>\n",
    "<td class=\"org-right\">443</td>\n",
    "<td class=\"org-left\">HTTPS</td>\n",
    "<td class=\"org-left\">&#xa0;</td>\n",
    "</tr>\n",
    "\n",
    "\n",
    "<tr>\n",
    "<td class=\"org-left\">TCP</td>\n",
    "<td class=\"org-right\">830</td>\n",
    "<td class=\"org-left\">NETCONF</td>\n",
    "<td class=\"org-left\">&#xa0;</td>\n",
    "</tr>\n",
    "\n",
    "\n",
    "<tr>\n",
    "<td class=\"org-left\">TCP</td>\n",
    "<td class=\"org-right\">4334</td>\n",
    "<td class=\"org-left\">NETCONF call-home</td>\n",
    "<td class=\"org-left\">&#xa0;</td>\n",
    "</tr>\n",
    "\n",
    "\n",
    "<tr>\n",
    "<td class=\"org-left\">TCP</td>\n",
    "<td class=\"org-right\">4570</td>\n",
    "<td class=\"org-left\">NSO HA</td>\n",
    "<td class=\"org-left\">&#xa0;</td>\n",
    "</tr>\n",
    "</tbody>\n",
    "</table>"
   ]
  },
  {
   "attachments": {},
   "cell_type": "markdown",
   "metadata": {},
   "source": [
    "### 🍽️ Cooking time 🍽️\n",
    "\n",
    "Let's spin a container using the ```base``` image. \n",
    "\n",
    "For that purpose, we will use the idiomatic approach file contained in this repository. We will open the HTTP ports for accesing the RESTCONF interface:"
   ]
  },
  {
   "cell_type": "code",
   "execution_count": 8,
   "metadata": {},
   "outputs": [
    {
     "data": {
      "text/plain": [
       "['596a8a0a4ac21213ba987630a195f524a0996d5fa799761bc684d866b8de75bd']"
      ]
     },
     "execution_count": 8,
     "metadata": {},
     "output_type": "execute_result"
    }
   ],
   "source": [
    "!!docker run -itd --env-file pipeline-utils/nso_setup.list --platform=linux/amd64 -p 8081:443 --name MYNSO-BASE cisco-nso-base:6.0-root"
   ]
  },
  {
   "attachments": {},
   "cell_type": "markdown",
   "metadata": {},
   "source": [
    "After waiting for some time for NSO to boot, let's copy, compile and onboard the sample service contained in this repository.\n",
    "\n",
    "**VERY IMPORTANT!** The default location of our packages within this container is ```/nso/run/packages/```. This can be changed so that another location or even a mounted volume are default."
   ]
  },
  {
   "cell_type": "code",
   "execution_count": 9,
   "metadata": {},
   "outputs": [],
   "source": [
    "!docker cp rfs-common MYNSO-BASE:/nso/run/packages"
   ]
  },
  {
   "cell_type": "code",
   "execution_count": 10,
   "metadata": {},
   "outputs": [
    {
     "name": "stdout",
     "output_type": "stream",
     "text": [
      "rm -rf ../load-dir java/src//\n",
      "mkdir -p ../load-dir\n",
      "mkdir -p java/src//\n",
      "/opt/ncs/ncs-6.0/bin/ncsc  `ls rfs-common-ann.yang  > /dev/null 2>&1 && echo \"-a rfs-common-ann.yang\"` \\\n",
      "\t--fail-on-warnings \\\n",
      "\t \\\n",
      "\t-c -o ../load-dir/rfs-common.fxs yang/rfs-common.yang\n"
     ]
    }
   ],
   "source": [
    "!docker exec -i MYNSO-BASE bash -l -c \"cd /nso/run/packages/rfs-common/src/ && make clean all\""
   ]
  },
  {
   "attachments": {},
   "cell_type": "markdown",
   "metadata": {},
   "source": [
    "Finally, time to issue a packages reload!"
   ]
  },
  {
   "cell_type": "code",
   "execution_count": 11,
   "metadata": {},
   "outputs": [
    {
     "name": "stdout",
     "output_type": "stream",
     "text": [
      "\n",
      ">>> System upgrade is starting.\n",
      ">>> Sessions in configure mode must exit to operational mode.\n",
      ">>> No configuration changes can be performed until upgrade has completed.\n",
      ">>> System upgrade has completed successfully.\n",
      "reload-result {\n",
      "    package rfs-common\n",
      "    result true\n",
      "}\n"
     ]
    }
   ],
   "source": [
    "!docker exec -i MYNSO-BASE bash -l -c \"echo 'packages reload' | ncs_cli -Cu admin\""
   ]
  },
  {
   "attachments": {},
   "cell_type": "markdown",
   "metadata": {},
   "source": [
    "The container is ready to be used!"
   ]
  },
  {
   "cell_type": "code",
   "execution_count": 12,
   "metadata": {},
   "outputs": [
    {
     "name": "stdout",
     "output_type": "stream",
     "text": [
      "            PACKAGE  \n",
      "NAME        VERSION  \n",
      "---------------------\n",
      "rfs-common  1.0      \n",
      "\n"
     ]
    }
   ],
   "source": [
    "!docker exec -i MYNSO-BASE bash -l -c \"echo 'show packages package * package-version' | ncs_cli -Cu admin\""
   ]
  }
 ],
 "metadata": {
  "kernelspec": {
   "display_name": "Python 3",
   "language": "python",
   "name": "python3"
  },
  "language_info": {
   "codemirror_mode": {
    "name": "ipython",
    "version": 3
   },
   "file_extension": ".py",
   "mimetype": "text/x-python",
   "name": "python",
   "nbconvert_exporter": "python",
   "pygments_lexer": "ipython3",
   "version": "3.11.6"
  },
  "orig_nbformat": 4,
  "vscode": {
   "interpreter": {
    "hash": "b0fa6594d8f4cbf19f97940f81e996739fb7646882a419484c72d19e05852a7e"
   }
  }
 },
 "nbformat": 4,
 "nbformat_minor": 2
}
