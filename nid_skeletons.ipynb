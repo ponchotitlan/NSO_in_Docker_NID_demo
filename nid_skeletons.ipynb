{
 "cells": [
  {
   "attachments": {},
   "cell_type": "markdown",
   "metadata": {},
   "source": [
    "# NID (NSO in Docker) demo\n",
    "## 🦴 NID skeletons 🦴\n",
    "---\n",
    "### We need consistency in our development/testing environments\n",
    "\n",
    "Fresh new project. The team expects lots from you. It is imperative that you get going as fast as possible.\n",
    "\n",
    "But wait, you need a development environment to get started, right?\n",
    "\n",
    "The following questions may arise:\n",
    "- Which is our current NSO version?\n",
    "- Which NEDs are we using?\n",
    "- Are there any standard, often inmutable support services that we're using? (utils, rfs, CFP)\n",
    "\n",
    "Setting up these environments often takes plenty of time.<br>On top of that, the list of requirements is often blurry and prone to errors (a.k.a Not the most updated project documentation).\n",
    "\n",
    "The environment issue gets more interesting when we think about testing.<br>The same questions arise when it comes to setting up our staging so that it is alligned to what is out there in production.<br>Confusions regarding the versions can lead to consequences when releasing service updates.\n",
    "\n",
    "With this in mind, the NID project encompasses a series of utilities for creating the so-called \"skeletons\", which tackle the needing of consistent yet flexible staging environments in a programmatic way."
   ]
  },
  {
   "attachments": {},
   "cell_type": "markdown",
   "metadata": {},
   "source": [
    "To get started, follow the steps for generating your ```base``` and ```dev``` images. Your image repository should include them by now."
   ]
  },
  {
   "cell_type": "code",
   "execution_count": 1,
   "metadata": {},
   "outputs": [
    {
     "name": "stdout",
     "output_type": "stream",
     "text": [
      "cisco-nso-base                                                   6.0-root               a173e5c9baa9   3 months ago    678MB\n",
      "cisco-nso-dev                                                    6.0-root               825b256d44ac   3 months ago    1.43GB\n"
     ]
    }
   ],
   "source": [
    "!docker images | grep cisco-nso"
   ]
  },
  {
   "attachments": {},
   "cell_type": "markdown",
   "metadata": {},
   "source": [
    "### 📦 ```package``` skeleton 📦\n",
    "---\n",
    "\n",
    "This option allows you to generate a NSO image based on the previously generated ones with a persistent and compiled service.\n",
    "\n",
    "Navigate to the following location of the ```nso-docker``` repository and copy your rfs, CFP, etc project:\n",
    "\n",
    "```\n",
    "/nso-docker/skeletons/package/packages\n",
    "```\n",
    "\n",
    "In our example, we are using a very simple rfs called rfs-common.\n",
    "Now, navigate to the parent ```package``` folder and execute the following command:\n",
    "\n",
    "```\n",
    "make build NSO_VERSION=6.0-root\n",
    "```\n",
    "\n",
    "This will render the following images:"
   ]
  },
  {
   "cell_type": "code",
   "execution_count": 26,
   "metadata": {},
   "outputs": [
    {
     "name": "stdout",
     "output_type": "stream",
     "text": [
      "package/package                                                  6.0-root-alfsando      b2baaf804c17   3 hours ago      5.33kB\n",
      "package/package                                                  MM_6.0-root-alfsando   b2baaf804c17   3 hours ago      5.33kB\n",
      "package/testnso                                                  6.0-root-alfsando      ddbca12cb585   3 hours ago      678MB\n",
      "package/build                                                    6.0-root-alfsando      a0d3c6dfb8ed   3 hours ago      1.43GB\n"
     ]
    }
   ],
   "source": [
    "!docker images | grep package/"
   ]
  },
  {
   "attachments": {},
   "cell_type": "markdown",
   "metadata": {},
   "source": [
    "What just happened? The mentioned rfs was compiled, and a series of NSO docker images were created with this pre-loaded, already-compiled and onboarded service within.\n",
    "\n",
    "Let's spin one of these and see the contents:"
   ]
  },
  {
   "cell_type": "code",
   "execution_count": 14,
   "metadata": {},
   "outputs": [
    {
     "name": "stdout",
     "output_type": "stream",
     "text": [
      "9d8f20264639559da2bf0bf846183bf478fb8a7d19cbd41a7b26c01dc5b75810\n"
     ]
    }
   ],
   "source": [
    "!docker run -itd --env-file pipeline-utils/nso_setup.list --platform=linux/amd64 --name MYNSO-RFS package/testnso:6.0-root-alfsando"
   ]
  },
  {
   "attachments": {},
   "cell_type": "markdown",
   "metadata": {},
   "source": [
    "Voilà! NSO with a persistent package was just spun up. Let's inspect the contents.\n",
    "\n",
    "**⏳ IMPORTANT! ⏳**: Let your container cool for a little bit before attempting any NSO-related operation. The ```testnso``` flavour that we just spun will start NSO as soon as it is deployed, but still it takes a little while."
   ]
  },
  {
   "cell_type": "code",
   "execution_count": 34,
   "metadata": {},
   "outputs": [
    {
     "name": "stdout",
     "output_type": "stream",
     "text": [
      "            PACKAGE  \n",
      "NAME        VERSION  \n",
      "---------------------\n",
      "rfs-common  1.0      \n",
      "\n"
     ]
    }
   ],
   "source": [
    "!docker exec -i MYNSO-RFS bash -l -c \"echo 'show packages package * package-version' | ncs_cli -Cu admin\""
   ]
  },
  {
   "attachments": {},
   "cell_type": "markdown",
   "metadata": {},
   "source": [
    "However, this rfs is not available in the packages folder! This is to respect the concept of a NID skeleton, as this rfs shall be inmutable for this NID Docker image. Any changes to the rfs should be done by generating a new NID image. Any other packages can be added to the ```/nso/run/packages/``` location."
   ]
  },
  {
   "cell_type": "code",
   "execution_count": 20,
   "metadata": {},
   "outputs": [],
   "source": [
    "!docker exec -i MYNSO-RFS bash -l -c \"ls /nso/run/packages/\""
   ]
  },
  {
   "attachments": {},
   "cell_type": "markdown",
   "metadata": {},
   "source": [
    "### 🚙 ```ned``` skeleton 🚙\n",
    "---\n",
    "\n",
    "The same concept applies for adding NEDs into our NID images. Navigate to the following location of the ```nso-docker``` repository and copy your unzipped NED folder:\n",
    "\n",
    "```\n",
    "/nso-docker/skeletons/ned/packages\n",
    "```\n",
    "\n",
    "In our example, we are using the ```cisco-iosxr-cli-7.43``` NED.\n",
    "Now, navigate to the parent ```ned``` folder and execute the following command:\n",
    "\n",
    "```\n",
    "make build NSO_VERSION=6.0-root\n",
    "```\n",
    "\n",
    "What will happen now is that the NED will be compiled and onboarded into our NSO image, so everytime that we spin a new container based on it, we don't need to onboard this NED.\n",
    "\n",
    "Unfortunately, the compilation is unavoidable, hence this process takes some time ...\n",
    "\n",
    "#### But wait! There's more\n",
    "\n",
    "Not only will you get a NSO image with an onboarded NED, but also an image of the NED per se! You can now spin up individual NED devices that you can onboard individually into your NSO container!\n",
    "\n",
    "Let's have a look at the rendered images:"
   ]
  },
  {
   "cell_type": "code",
   "execution_count": 36,
   "metadata": {},
   "outputs": [
    {
     "name": "stdout",
     "output_type": "stream",
     "text": [
      "ned/package-cisco-iosxr-cli-7.43                                 6.0-root-alfsando      cecfdbcc8adf   21 minutes ago   53.2MB\n",
      "ned/package-cisco-iosxr-cli-7.43                                 MM_6.0-root-alfsando   cecfdbcc8adf   21 minutes ago   53.2MB\n",
      "ned/netsim-cisco-iosxr-cli-7.43                                  6.0-root-alfsando      69591c1be6f1   21 minutes ago   1.48GB\n",
      "ned/netsim-cisco-iosxr-cli-7.43                                  MM_6.0-root-alfsando   69591c1be6f1   21 minutes ago   1.48GB\n",
      "ned/netsim                                                       6.0-root-alfsando      69591c1be6f1   21 minutes ago   1.48GB\n",
      "ned/netsim                                                       MM_6.0-root-alfsando   69591c1be6f1   21 minutes ago   1.48GB\n",
      "ned/package                                                      6.0-root-alfsando      e3d429421f74   21 minutes ago   53.2MB\n",
      "ned/package                                                      MM_6.0-root-alfsando   e3d429421f74   21 minutes ago   53.2MB\n",
      "ned/testnso                                                      6.0-root-alfsando      2e8e4ad543bc   21 minutes ago   732MB\n",
      "ned/build                                                        6.0-root-alfsando      4089d813c34b   21 minutes ago   1.53GB\n"
     ]
    }
   ],
   "source": [
    "!docker images | grep ned/"
   ]
  },
  {
   "attachments": {},
   "cell_type": "markdown",
   "metadata": {},
   "source": [
    "Let's spin a container with the image which contains NSO with the onboarded NED:"
   ]
  },
  {
   "cell_type": "code",
   "execution_count": 39,
   "metadata": {},
   "outputs": [
    {
     "name": "stdout",
     "output_type": "stream",
     "text": [
      "3a42b8add6da91d85f4c1c5a151072c6be0df831f7c4a5e8ddb45181e52b49e8\n"
     ]
    }
   ],
   "source": [
    "!docker run -itd --env-file pipeline-utils/nso_setup.list --platform=linux/amd64 --name MYNSO-NED ned/testnso:6.0-root-alfsando"
   ]
  },
  {
   "attachments": {},
   "cell_type": "markdown",
   "metadata": {},
   "source": [
    "Let's have a look at the packages installed:"
   ]
  },
  {
   "cell_type": "code",
   "execution_count": 40,
   "metadata": {},
   "outputs": [
    {
     "name": "stdout",
     "output_type": "stream",
     "text": [
      "                      PACKAGE  \n",
      "NAME                  VERSION  \n",
      "-------------------------------\n",
      "cisco-iosxr-cli-7.43  7.43     \n",
      "\n"
     ]
    }
   ],
   "source": [
    "!docker exec -i MYNSO-NED bash -l -c \"echo 'show packages package * package-version' | ncs_cli -Cu admin\""
   ]
  },
  {
   "attachments": {},
   "cell_type": "markdown",
   "metadata": {},
   "source": [
    "Now, let's spin up a full NETSIM device based on the generted ```netsim/``` image:"
   ]
  },
  {
   "cell_type": "code",
   "execution_count": 4,
   "metadata": {},
   "outputs": [
    {
     "name": "stdout",
     "output_type": "stream",
     "text": [
      "b425787b06b5d2aef6814faf095a2e4a8211e5b3f351999e1fe142c8a6337669\n"
     ]
    }
   ],
   "source": [
    "!docker run -td --platform=linux/amd64 -p 222:22 --name IOSXR-0 ned/netsim-cisco-iosxr-cli-7.43:6.0-root-alfsando"
   ]
  },
  {
   "attachments": {},
   "cell_type": "markdown",
   "metadata": {},
   "source": [
    "After waiting a little bit for it to warm up, we have a full netsim device for us to use!\n",
    "\n",
    "Let's have a look at its device configs xml for further onboarding on NSO:"
   ]
  },
  {
   "cell_type": "code",
   "execution_count": 7,
   "metadata": {},
   "outputs": [
    {
     "name": "stdout",
     "output_type": "stream",
     "text": [
      "<devices xmlns=\"http://tail-f.com/ns/ncs\">\n",
      "   <device>\n",
      "     <name>b425787b06b5</name>\n",
      "     <address>127.0.0.1</address>\n",
      "     <port>22</port>\n",
      "     <ssh>\n",
      "       <host-key>\n",
      "         <algorithm>ssh-ed25519</algorithm>\n",
      "         <key-data>ssh-ed25519 AAAAC3NzaC1lZDI1NTE5AAAAICp3BzdAicVmmH9CjKDfAstEEi48y3+rwA3YBh4fXoQS root@buildkitsandbox</key-data>\n",
      "       </host-key>\n",
      "       <host-key>\n",
      "         <algorithm>ssh-rsa</algorithm>\n",
      "         <key-data>ssh-rsa AAAAB3NzaC1yc2EAAAADAQABAAABAQDsa73No6ya/JHsyAFiaVPbU/GiZnTSTUaOmKCX75KkFWxG5prV0UWKdDd1r33dI9ImJ/NTXsGujJeg6Ln8qQkO7V7R7u/nbBCv5JMAFS42ssGbcddP+z5T9CADIm8xSC30W1xvoLw2552JQQ3cK+DKMyWVxO81PeN1Hf0Lev4EGgnKn92FZDfPNv8NA8YT5j/pYC1hI3CpiWyrBF13cUSTsz5UwAY9KHPUphVobzjecjB+nA/DZXTyHxAE3oI7nzcCegrZQ2da7XyMp02l82H8zYIbCzSAVlCY8pGJR9S/V2AdTTXFgWleulro+Gwy+ABKCLQepu7MmiPJ0HkX0QJ5 root@buildkitsandbox</key-data>\n",
      "       </host-key>\n",
      "     </ssh>\n",
      "     <ssh-algorithms>\n",
      "       <public-key>ssh-ed25519</public-key>\n",
      "       <public-key>ssh-rsa</public-key>\n",
      "     </ssh-algorithms>\n",
      "     <state>\n",
      "       <admin-state>unlocked</admin-state>\n",
      "     </state>\n",
      "     <authgroup>default</authgroup>\n",
      "     <device-type>\n",
      "       <cli>\n",
      "         <ned-id xmlns:id=\"http://tail-f.com/ns/ned-id/cisco-iosxr-cli-7.43\">id:cisco-iosxr-cli-7.43</ned-id>\n",
      "       </cli>\n",
      "     </device-type>\n",
      "   </device>\n",
      "</devices>\n"
     ]
    }
   ],
   "source": [
    "!docker exec -i IOSXR-0 bash -l -c \"cd /opt/ncs/current/ && ncs-netsim ncs-xml-init > iosxr-0.xml\"\n",
    "!docker exec -i IOSXR-0 bash -l -c \"cd /opt/ncs/current/ && cat iosxr-0.xml\"\n"
   ]
  },
  {
   "attachments": {},
   "cell_type": "markdown",
   "metadata": {},
   "source": [
    "You get the picture, right?\n",
    "\n",
    "We can create as many netsim devices as we need, and treat them individually as independent containers which can be spun up and destroyed at will.\n",
    "\n",
    "This is ideal for dynamic, ondemand testing scenarios such as a Testing Stage in a CICD pipeline.\n",
    "\n",
    "Later on we will review a way of onboarding our netsims into our staging NSO container."
   ]
  },
  {
   "attachments": {},
   "cell_type": "markdown",
   "metadata": {},
   "source": [
    "### 📚 But wait, can I have both? 📚\n",
    "---\n",
    "\n",
    "**YES!**. It is possible to integrate several pre-bundled elements in our skeletons, so that we can achieve a single golden NSO Docker image with little to no effort. Let's load our extracted NED and our rfs package in the following location of the ```nso-docker``` repository:\n",
    "\n",
    "```\n",
    "/nso-docker/skeletons/system/packages\n",
    "```\n",
    "\n",
    "Again, navigate to the parent ```system``` folder and issue the same command:\n",
    "\n",
    "```\n",
    "make build NSO_VERSION=6.0-root\n",
    "```\n",
    "\n",
    "This time you will have the following images generated:"
   ]
  },
  {
   "cell_type": "code",
   "execution_count": 2,
   "metadata": {},
   "outputs": [
    {
     "name": "stdout",
     "output_type": "stream",
     "text": [
      "system/nso                                                       6.0-root-alfsando      0f29fa22bb93   42 seconds ago   732MB\n",
      "system/nso                                                       MM_6.0-root-alfsando   0f29fa22bb93   42 seconds ago   732MB\n",
      "system/build                                                     6.0-root-alfsando      4f29b0a27c3a   47 seconds ago   1.52GB\n"
     ]
    }
   ],
   "source": [
    "!docker images | grep system/"
   ]
  },
  {
   "attachments": {},
   "cell_type": "markdown",
   "metadata": {},
   "source": [
    "Let's spin a container and see its contents:"
   ]
  },
  {
   "cell_type": "code",
   "execution_count": 3,
   "metadata": {},
   "outputs": [
    {
     "name": "stdout",
     "output_type": "stream",
     "text": [
      "0f7d676c9c83868b219a6b11be5bf0f3b7d0468a143aa275e0ad05d48bc3da5f\n"
     ]
    }
   ],
   "source": [
    "!docker run -itd --env-file pipeline-utils/nso_setup.list --platform=linux/amd64 --name MYNSO-FULL system/nso:6.0-root-alfsando"
   ]
  },
  {
   "cell_type": "code",
   "execution_count": 8,
   "metadata": {},
   "outputs": [
    {
     "name": "stdout",
     "output_type": "stream",
     "text": [
      "                      PACKAGE  \n",
      "NAME                  VERSION  \n",
      "-------------------------------\n",
      "cisco-iosxr-cli-7.43  7.43     \n",
      "rfs-common            1.0      \n",
      "\n"
     ]
    }
   ],
   "source": [
    "!docker exec -i MYNSO-FULL bash -l -c \"echo 'show packages package * package-version' | ncs_cli -Cu admin\""
   ]
  },
  {
   "attachments": {},
   "cell_type": "markdown",
   "metadata": {},
   "source": [
    "### 🧩 Putting together a container-based testing/development scenario 🧩\n",
    "\n",
    "The objective now is to generate a series of netsim \"devices\" (containers) and onboard them into our staging NSO container.\n",
    "\n",
    "Certainly there are many ways of doing so. The following steps describe one possible solution to this task.\n",
    "\n",
    "For that purpose, we need to first create a ```docker network``` so that we enable the communication between our netsims and the NSO container:"
   ]
  },
  {
   "cell_type": "code",
   "execution_count": 9,
   "metadata": {},
   "outputs": [
    {
     "name": "stdout",
     "output_type": "stream",
     "text": [
      "08ca453e44c7d6aa29ae79d8ee1c9ada0e3a29d20c78054798f902f44f0e326e\n"
     ]
    }
   ],
   "source": [
    "!docker network create nsotestenvnetwork"
   ]
  },
  {
   "attachments": {},
   "cell_type": "markdown",
   "metadata": {},
   "source": [
    "Next, we need to spin our NSO container using this network.\n",
    "\n",
    "We will spin it based on the ```system``` image that we created before."
   ]
  },
  {
   "cell_type": "code",
   "execution_count": 12,
   "metadata": {},
   "outputs": [
    {
     "name": "stdout",
     "output_type": "stream",
     "text": [
      "3d38c0bf096a147b1118b247341f3cda1f5f5e59697b37e0faaffbbe95919090\n"
     ]
    }
   ],
   "source": [
    "!docker run -itd --network nsotestenvnetwork --env-file pipeline-utils/nso_setup.list --platform=linux/amd64 -p 8080:80 --name STAGING-NSO system/nso:6.0-root-alfsando"
   ]
  },
  {
   "attachments": {},
   "cell_type": "markdown",
   "metadata": {},
   "source": [
    "After it warmed up, we load our xml which contains the definition of the authgroup required for onboarding the netsims:"
   ]
  },
  {
   "cell_type": "code",
   "execution_count": 15,
   "metadata": {},
   "outputs": [],
   "source": [
    "!docker cp pipeline-utils/netsim_authgroup.xml STAGING-NSO:/\n",
    "!docker exec -i STAGING-NSO bash -l -c \"ncs_load -l -m netsim_authgroup.xml\""
   ]
  },
  {
   "attachments": {},
   "cell_type": "markdown",
   "metadata": {},
   "source": [
    "Let's spin two more netsims, this time using the network that we created before:"
   ]
  },
  {
   "cell_type": "code",
   "execution_count": 20,
   "metadata": {},
   "outputs": [
    {
     "name": "stdout",
     "output_type": "stream",
     "text": [
      "b9acd8a28903ff2d090f2f4ef2558e10032ea8eb2c88851eca8a38acf9050bf1\n",
      "0d959e99972258de44fa4b7475d6560bef9f9ad04dbb783a90a412031fa8486a\n"
     ]
    }
   ],
   "source": [
    "!docker run -td --network-alias nsotestenvnetwork --hostname IOSXR-1 --platform=linux/amd64 -p 223:22 --network nsotestenvnetwork --name IOSXR-1 ned/netsim-cisco-iosxr-cli-7.43:6.0-root-alfsando\n",
    "!docker run -td --network-alias nsotestenvnetwork --hostname IOSXR-2 --platform=linux/amd64 -p 224:22 --network nsotestenvnetwork --name IOSXR-2 ned/netsim-cisco-iosxr-cli-7.43:6.0-root-alfsando"
   ]
  },
  {
   "attachments": {},
   "cell_type": "markdown",
   "metadata": {},
   "source": [
    "Once the netsim containers are ready, we can proceed with the onboarding into our staging NSO. \n",
    "\n",
    "First of all, let's generate and copy the configuration xml files of each:"
   ]
  },
  {
   "cell_type": "code",
   "execution_count": 25,
   "metadata": {},
   "outputs": [],
   "source": [
    "!docker exec -i IOSXR-1 bash -l -c \"cd /opt/ncs/current/ && ncs-netsim ncs-xml-init > device-1.xml\"\n",
    "!docker exec -i IOSXR-2 bash -l -c \"cd /opt/ncs/current/ && ncs-netsim ncs-xml-init > device-2.xml\""
   ]
  },
  {
   "attachments": {},
   "cell_type": "markdown",
   "metadata": {},
   "source": [
    "Next, we will copy these xml files and update them with the IP of each device within the Docker network, so that NSO is able to reach them without any issues:"
   ]
  },
  {
   "cell_type": "code",
   "execution_count": 21,
   "metadata": {},
   "outputs": [],
   "source": [
    "!docker cp IOSXR-1:/opt/ncs/current/device-1.xml .\n",
    "!docker cp IOSXR-2:/opt/ncs/current/device-2.xml ."
   ]
  },
  {
   "cell_type": "code",
   "execution_count": 29,
   "metadata": {},
   "outputs": [
    {
     "name": "stdout",
     "output_type": "stream",
     "text": [
      "<?xml version=\"1.0\"?>\n",
      "<devices xmlns=\"http://tail-f.com/ns/ncs\">\n",
      "  <device>\n",
      "    <name>IOSXR-1</name>\n",
      "    <address>172.23.0.3</address>\n",
      "    <port>22</port>\n",
      "    <ssh>\n",
      "      <host-key>\n",
      "        <algorithm>ssh-ed25519</algorithm>\n",
      "        <key-data>ssh-ed25519 AAAAC3NzaC1lZDI1NTE5AAAAICp3BzdAicVmmH9CjKDfAstEEi48y3+rwA3YBh4fXoQS root@buildkitsandbox</key-data>\n",
      "      </host-key>\n",
      "      <host-key>\n",
      "        <algorithm>ssh-rsa</algorithm>\n",
      "        <key-data>ssh-rsa AAAAB3NzaC1yc2EAAAADAQABAAABAQDsa73No6ya/JHsyAFiaVPbU/GiZnTSTUaOmKCX75KkFWxG5prV0UWKdDd1r33dI9ImJ/NTXsGujJeg6Ln8qQkO7V7R7u/nbBCv5JMAFS42ssGbcddP+z5T9CADIm8xSC30W1xvoLw2552JQQ3cK+DKMyWVxO81PeN1Hf0Lev4EGgnKn92FZDfPNv8NA8YT5j/pYC1hI3CpiWyrBF13cUSTsz5UwAY9KHPUphVobzjecjB+nA/DZXTyHxAE3oI7nzcCegrZQ2da7XyMp02l82H8zYIbCzSAVlCY8pGJR9S/V2AdTTXFgWleulro+Gwy+ABKCLQepu7MmiPJ0HkX0QJ5 root@buildkitsandbox</key-data>\n",
      "      </host-key>\n",
      "    </ssh>\n",
      "    <ssh-algorithms>\n",
      "      <public-key>ssh-ed25519</public-key>\n",
      "      <public-key>ssh-rsa</public-key>\n",
      "    </ssh-algorithms>\n",
      "    <state>\n",
      "      <admin-state>unlocked</admin-state>\n",
      "    </state>\n",
      "    <authgroup>default</authgroup>\n",
      "    <device-type>\n",
      "      <cli>\n",
      "        <ned-id xmlns:id=\"http://tail-f.com/ns/ned-id/cisco-iosxr-cli-7.43\">id:cisco-iosxr-cli-7.43</ned-id>\n",
      "      </cli>\n",
      "    </device-type>\n",
      "  </device>\n",
      "</devices>\n",
      "<?xml version=\"1.0\"?>\n",
      "<devices xmlns=\"http://tail-f.com/ns/ncs\">\n",
      "  <device>\n",
      "    <name>IOSXR-2</name>\n",
      "    <address>172.23.0.4</address>\n",
      "    <port>22</port>\n",
      "    <ssh>\n",
      "      <host-key>\n",
      "        <algorithm>ssh-ed25519</algorithm>\n",
      "        <key-data>ssh-ed25519 AAAAC3NzaC1lZDI1NTE5AAAAICp3BzdAicVmmH9CjKDfAstEEi48y3+rwA3YBh4fXoQS root@buildkitsandbox</key-data>\n",
      "      </host-key>\n",
      "      <host-key>\n",
      "        <algorithm>ssh-rsa</algorithm>\n",
      "        <key-data>ssh-rsa AAAAB3NzaC1yc2EAAAADAQABAAABAQDsa73No6ya/JHsyAFiaVPbU/GiZnTSTUaOmKCX75KkFWxG5prV0UWKdDd1r33dI9ImJ/NTXsGujJeg6Ln8qQkO7V7R7u/nbBCv5JMAFS42ssGbcddP+z5T9CADIm8xSC30W1xvoLw2552JQQ3cK+DKMyWVxO81PeN1Hf0Lev4EGgnKn92FZDfPNv8NA8YT5j/pYC1hI3CpiWyrBF13cUSTsz5UwAY9KHPUphVobzjecjB+nA/DZXTyHxAE3oI7nzcCegrZQ2da7XyMp02l82H8zYIbCzSAVlCY8pGJR9S/V2AdTTXFgWleulro+Gwy+ABKCLQepu7MmiPJ0HkX0QJ5 root@buildkitsandbox</key-data>\n",
      "      </host-key>\n",
      "    </ssh>\n",
      "    <ssh-algorithms>\n",
      "      <public-key>ssh-ed25519</public-key>\n",
      "      <public-key>ssh-rsa</public-key>\n",
      "    </ssh-algorithms>\n",
      "    <state>\n",
      "      <admin-state>unlocked</admin-state>\n",
      "    </state>\n",
      "    <authgroup>default</authgroup>\n",
      "    <device-type>\n",
      "      <cli>\n",
      "        <ned-id xmlns:id=\"http://tail-f.com/ns/ned-id/cisco-iosxr-cli-7.43\">id:cisco-iosxr-cli-7.43</ned-id>\n",
      "      </cli>\n",
      "    </device-type>\n",
      "  </device>\n",
      "</devices>\n"
     ]
    }
   ],
   "source": [
    "%%bash\n",
    "NETSIM_IP_1=$(docker inspect -f '{{ .NetworkSettings.Networks.nsotestenvnetwork.IPAddress}}' IOSXR-1)\n",
    "NETSIM_IP_2=$(docker inspect -f '{{ .NetworkSettings.Networks.nsotestenvnetwork.IPAddress}}' IOSXR-2)\n",
    "\n",
    "xmlstarlet edit --inplace -N x=http://tail-f.com/ns/ncs --update '/x:devices/x:device/x:address' --value $NETSIM_IP_1 device-1.xml\n",
    "xmlstarlet edit --inplace -N x=http://tail-f.com/ns/ncs --update '/x:devices/x:device/x:address' --value $NETSIM_IP_2 device-2.xml\n",
    "\n",
    "cat device-1.xml\n",
    "cat device-2.xml"
   ]
  },
  {
   "attachments": {},
   "cell_type": "markdown",
   "metadata": {},
   "source": [
    "Finally, these updated xml files are copied into the NSO container and the configs are loaded into the server:"
   ]
  },
  {
   "cell_type": "code",
   "execution_count": 30,
   "metadata": {},
   "outputs": [],
   "source": [
    "!docker cp device-1.xml STAGING-NSO:/\n",
    "!docker cp device-2.xml STAGING-NSO:/"
   ]
  },
  {
   "cell_type": "code",
   "execution_count": 31,
   "metadata": {},
   "outputs": [],
   "source": [
    "!docker exec -i STAGING-NSO bash -l -c \"ncs_load -l -m device-1.xml\"\n",
    "!docker exec -i STAGING-NSO bash -l -c \"ncs_load -l -m device-2.xml\""
   ]
  },
  {
   "attachments": {},
   "cell_type": "markdown",
   "metadata": {},
   "source": [
    "Last but not least, we sync the devices and show the device list:"
   ]
  },
  {
   "cell_type": "code",
   "execution_count": 33,
   "metadata": {},
   "outputs": [
    {
     "name": "stdout",
     "output_type": "stream",
     "text": [
      "devices device IOSXR-1 sync-from\n",
      "    result true\n",
      "devices device IOSXR-2 sync-from\n",
      "    result true\n",
      "NAME     ADDRESS     DESCRIPTION  NED ID                ADMIN STATE  \n",
      "-------------------------------------------------------------------\n",
      "IOSXR-1  172.23.0.3  -            cisco-iosxr-cli-7.43  unlocked     \n",
      "IOSXR-2  172.23.0.4  -            cisco-iosxr-cli-7.43  unlocked     \n"
     ]
    }
   ],
   "source": [
    "!docker exec -i STAGING-NSO bash -l -c \"echo 'devices device * sync-from' | ncs_cli -Cu admin\"\n",
    "!docker exec -i STAGING-NSO bash -l -c \"echo 'show devices list' | ncs_cli -Cu admin\""
   ]
  },
  {
   "attachments": {},
   "cell_type": "markdown",
   "metadata": {},
   "source": [
    "### 🙌🏽 And that's it! 🙌🏽\n",
    "\n",
    "We can proceed to use our fully geared NSO container for development or testing purposes.\n",
    "\n",
    "Needless to say, to perform a cleanup we just need to destroy the corresponding containers with the following command:\n",
    "\n",
    "```\n",
    "docker rm -f <NAME OF THE CONTAINER>\n",
    "\n",
    "```"
   ]
  }
 ],
 "metadata": {
  "kernelspec": {
   "display_name": "base",
   "language": "python",
   "name": "python3"
  },
  "language_info": {
   "codemirror_mode": {
    "name": "ipython",
    "version": 3
   },
   "file_extension": ".py",
   "mimetype": "text/x-python",
   "name": "python",
   "nbconvert_exporter": "python",
   "pygments_lexer": "ipython3",
   "version": "3.9.13"
  },
  "orig_nbformat": 4,
  "vscode": {
   "interpreter": {
    "hash": "c6e4e9f98eb68ad3b7c296f83d20e6de614cb42e90992a65aa266555a3137d0d"
   }
  }
 },
 "nbformat": 4,
 "nbformat_minor": 2
}
